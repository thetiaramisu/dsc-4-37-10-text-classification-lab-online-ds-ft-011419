{
 "cells": [
  {
   "cell_type": "markdown",
   "metadata": {},
   "source": [
    "# Text Classification - Lab\n",
    "\n",
    "## Introduction\n",
    "\n",
    "In this lab, we'll use everything we've learned so far to build a model that can classify a text document as one of many possible classes!\n",
    "\n",
    "## Objectives\n",
    "\n",
    "You will be able to:\n",
    "\n",
    "* Generate and select appropriate features from a corpus for text classification using NLTK\n",
    "* Preprocess, tokenize, and vectorize a dataset using professional tools such as NLTK and scikit-learn\n",
    "* Demonstrate a working knowledge of best practices for preprocessing a dataset for text classification.\n",
    "\n",
    "\n",
    "# Getting Started\n",
    "\n",
    "For this lab, we'll be working with the classic **_Newsgroups Dataset_**, which is available as a training data set inside of `sklearn.datasets`. This dataset contains many different articles that fall into 1 of 20 possible classes. Our goal will be to build a classifier that can accurately predict the class of an article based on the features we create from the article itself!\n",
    "\n",
    "Let's get started. Run the cell below to import everything we'll need for this lab. "
   ]
  },
  {
   "cell_type": "code",
   "execution_count": 1,
   "metadata": {},
   "outputs": [],
   "source": [
    "import nltk\n",
    "from nltk.corpus import stopwords\n",
    "import string\n",
    "from nltk import word_tokenize, FreqDist\n",
    "from sklearn.feature_extraction.text import TfidfVectorizer\n",
    "from sklearn.metrics import accuracy_score\n",
    "from sklearn.datasets import fetch_20newsgroups\n",
    "from sklearn.ensemble import RandomForestClassifier\n",
    "from sklearn.naive_bayes import MultinomialNB\n",
    "import pandas as pd\n",
    "import numpy as np\n",
    "np.random.seed(0)"
   ]
  },
  {
   "cell_type": "markdown",
   "metadata": {},
   "source": [
    "Now, we need to fetch our dataset. Run the cell below to download all the newsgroups articles and their corresponding labels. If this is the first time working with this dataset, scikit-learn will need to download all of the articles from an external repository--the cell below may take a little while to run. \n",
    "\n",
    "The actual dataset is quite large. To save us from extremely long runtimes, we'll work with only a subset of the classes. Here are a list of all the possible classes:\n",
    "\n",
    "<img src='classes.png'>\n",
    "\n",
    "For this lab, we'll only work with the following 5:\n",
    "\n",
    "* `'alt.atheism'`\n",
    "* `'comp.windows.x'`\n",
    "* `'rec.sport.hockey'`\n",
    "* `'sci.crypt'`\n",
    "* `'talk.politics.guns'`\n",
    "\n",
    "In the cell below:\n",
    "\n",
    "* Create a list called `categories` that contains the 5 newgroups classes listed above, as strings.\n",
    "* Get the training set by calling `fetch_20newsgroups()` and passing in the following parameters:\n",
    "    * `subset='train'`\n",
    "    * `categories=categories`\n",
    "    * `remove=('headers', 'footers', 'quotes')`--this is so that the model can't overfit to metadata included in the articles that sometimes acts as a dead-giveaway as to what class the article belongs to. \n",
    "* Get the testing set as well by passing in the same parameters, with the exception of `subset='test` "
   ]
  },
  {
   "cell_type": "code",
   "execution_count": 2,
   "metadata": {},
   "outputs": [
    {
     "name": "stderr",
     "output_type": "stream",
     "text": [
      "Downloading 20news dataset. This may take a few minutes.\n",
      "Downloading dataset from https://ndownloader.figshare.com/files/5975967 (14 MB)\n"
     ]
    }
   ],
   "source": [
    "categories = ['alt.atheism', 'comp.windows.x', 'rec.sport.hockey', 'sci.crypt', 'talk.politics.guns']\n",
    "newsgroups_train = fetch_20newsgroups(subset='train',categories=categories, remove=('headers', 'footers', 'quotes'))\n",
    "newsgroups_test = fetch_20newsgroups(subset='test',categories=categories, remove=('headers', 'footers', 'quotes'))"
   ]
  },
  {
   "cell_type": "markdown",
   "metadata": {},
   "source": [
    "Great! Now that we have our data, let's break apart the data and the labels, and then inspect the class names to see what the actual newsgroups are.\n",
    "\n",
    "In the cell below:\n",
    "\n",
    "* Grab the data from `newsgroups_train.data` and store it in the appropriate variable. \n",
    "* Grab the labels from `newsgroups_train.target` and store it in the appropriate variable. \n",
    "* Grab the label names from `newsgroups_train.target_names` and store it in the appropriate variable. \n",
    "* Display the `label_names` so that we can see the different classes of articles that we're working with, and confirm that we grabbed the right ones. "
   ]
  },
  {
   "cell_type": "code",
   "execution_count": 3,
   "metadata": {},
   "outputs": [],
   "source": [
    "data = newsgroups_train.data \n",
    "target = newsgroups_train.target\n",
    "label_names = newsgroups_train.target_names"
   ]
  },
  {
   "cell_type": "code",
   "execution_count": 4,
   "metadata": {},
   "outputs": [
    {
     "data": {
      "text/plain": [
       "['alt.atheism',\n",
       " 'comp.windows.x',\n",
       " 'rec.sport.hockey',\n",
       " 'sci.crypt',\n",
       " 'talk.politics.guns']"
      ]
     },
     "execution_count": 4,
     "metadata": {},
     "output_type": "execute_result"
    }
   ],
   "source": [
    "label_names"
   ]
  },
  {
   "cell_type": "markdown",
   "metadata": {},
   "source": [
    "Finally, let's check the shape of `data` to see what our data looks like. We can do this by checking the `.shape` attribute of `newsgroups_train.filenames`.\n",
    "\n",
    "Do this now in the cell below."
   ]
  },
  {
   "cell_type": "code",
   "execution_count": 5,
   "metadata": {},
   "outputs": [
    {
     "data": {
      "text/plain": [
       "(2814,)"
      ]
     },
     "execution_count": 5,
     "metadata": {},
     "output_type": "execute_result"
    }
   ],
   "source": [
    "newsgroups_train.filenames.shape"
   ]
  },
  {
   "cell_type": "markdown",
   "metadata": {},
   "source": [
    "Our dataset contains 2,814 different articles spread across the 5 classes we chose. \n",
    "\n",
    "### Cleaning and Preprocessing Our Data\n",
    "\n",
    "Now that we have our data, the fun part begins. We'll need to begin by preprocessing and cleaning our text data. As you've seen throughout this section, preprocessing text data is a bit more challenging than working with more traditional data types because there's no clear-cut answer for exactly what sort of preprocessing and cleaning we need to do. When working with traditional datasets, our goals are generally pretty clear for this stage--normalize and clean our numerical data, convert categorical data to a numeric format, check for and deal with multicollinearity, etc. The steps we take are largely dependent on what the data already looks like when we get a hold of it. Text data is different--if we inspect our dataset, we'll see that it has 1 dimension--the only existing feature in our dataset right now is one that contains all of the actual articles. This means that we need to make some decisions about how to preprocess our data. Before we can begin cleaning and preprocessing our text data, we need to make some decisions about things such as:\n",
    "\n",
    "* Do we remove stop words, or not?\n",
    "* Do we stem or lemmatize our text data, or leave the words as is?\n",
    "* Is basic tokenization enough, or do we need to support special edge cases through the use of regex?\n",
    "* Do we use the entire vocabulary, or just limit the model to a subset of the most frequently used words? If so, how many?\n",
    "* Do we engineer other features, such as bigrams, or POS tags, or Mutual Information Scores?\n",
    "* What sort of vectorization should we use in our model? Boolean Vectorization? Count Vectorization? TF-IDF? More advanced vectorization strategies such as Word2Vec?\n",
    "\n",
    "\n",
    "These are all questions that we'll need to think about pretty much anytime we begin working with text data. \n",
    "\n",
    "Let's get right into it. We'll start by getting a list of all of the english stopwords, and concatenating them with a list of all the punctuation. \n",
    "\n",
    "In the cell below:\n",
    "\n",
    "* Get all the english stopwords from nltk.\n",
    "* Get all of the punctuation from `string.punctuation`, and convert it to a list.\n",
    "* Add the two lists together. Name the result `stopwords_list`.\n",
    "* Create another list containing various types of empty strings and ellipses, such as `[\"''\", '\"\"', '...', \\'``']`. Add this to our `stopwords_list`, so that we won't have tokens that are only empty quotes and such. "
   ]
  },
  {
   "cell_type": "code",
   "execution_count": 10,
   "metadata": {},
   "outputs": [],
   "source": [
    "stopwords_list = stopwords_list = stopwords.words('english')\n",
    "stopwords_list += list(string.punctuation)\n",
    "stopwords_list += [\"''\", '\"\"', '...', '`']"
   ]
  },
  {
   "cell_type": "markdown",
   "metadata": {},
   "source": [
    "Great! We'll leave these alone for now, until we're ready to remove stop words after the tokenization step. \n",
    "\n",
    "Next, let's try tokenizing our dataset. In order to save ourselves some time, we'll write a function to clean our dataset, and then use python's built-in `map` function to clean every article in the dataset at the same time. \n",
    "\n",
    "In the cell below, complete the `process_article()` function. This function should:\n",
    "\n",
    "* Takes in one parameter, `article`\n",
    "* Tokenize the article using the appropriate function from nltk. \n",
    "* Lowercase every token, remove any stopwords found in `stopwords_list` from the tokenized article, and return the results. "
   ]
  },
  {
   "cell_type": "code",
   "execution_count": 13,
   "metadata": {},
   "outputs": [],
   "source": [
    "def process_article(article):\n",
    "    tokens = nltk.word_tokenize(article)\n",
    "    stopped_tokens = [w.lower() for w in tokens if w not in stopwords_list]\n",
    "    return stopped_tokens"
   ]
  },
  {
   "cell_type": "markdown",
   "metadata": {},
   "source": [
    "Now that we have this function, let's go ahead and preprocess our data, and then move into exploring our dataset. \n",
    "\n",
    "In the cell below:\n",
    "\n",
    "* Use python's `map()` function and pass in 2 parameters: the `data`, and the `process_article` function. Make sure to wrap the whole map statement in a `list()`.\n",
    "\n",
    "**_Note:_** Running this cell may take a minute or two!"
   ]
  },
  {
   "cell_type": "code",
   "execution_count": 15,
   "metadata": {},
   "outputs": [],
   "source": [
    "processed_data = list(map(process_article,data))"
   ]
  },
  {
   "cell_type": "markdown",
   "metadata": {},
   "source": [
    "Great. Now, let's inspect the first article inside of `processed_data` to see how it looks. \n",
    "\n",
    "Do this now in the cell below."
   ]
  },
  {
   "cell_type": "code",
   "execution_count": 16,
   "metadata": {},
   "outputs": [
    {
     "data": {
      "text/plain": [
       "['note',\n",
       " 'these',\n",
       " 'trial',\n",
       " 'updates',\n",
       " 'summarized',\n",
       " 'reports',\n",
       " '_idaho',\n",
       " 'statesman_',\n",
       " 'local',\n",
       " 'nbc',\n",
       " 'affiliate',\n",
       " 'television',\n",
       " 'station',\n",
       " 'ktvb',\n",
       " 'channel',\n",
       " '7',\n",
       " 'randy',\n",
       " 'weaver/kevin',\n",
       " 'harris',\n",
       " 'trial',\n",
       " 'update',\n",
       " 'day',\n",
       " '4',\n",
       " 'friday',\n",
       " 'april',\n",
       " '16',\n",
       " '1993',\n",
       " 'fourth',\n",
       " 'day',\n",
       " 'trial',\n",
       " 'synopsis',\n",
       " 'defense',\n",
       " 'attorney',\n",
       " 'gerry',\n",
       " 'spence',\n",
       " 'cross-examined',\n",
       " 'agent',\n",
       " 'cooper',\n",
       " 'repeated',\n",
       " 'objections',\n",
       " 'prosecutor',\n",
       " 'ronald',\n",
       " 'howen',\n",
       " 'spence',\n",
       " 'moved',\n",
       " 'mistrial',\n",
       " 'denied',\n",
       " 'the',\n",
       " 'day',\n",
       " 'marked',\n",
       " 'caustic',\n",
       " 'cross-examination',\n",
       " 'deputy',\n",
       " 'marshal',\n",
       " 'larry',\n",
       " 'cooper',\n",
       " 'defense',\n",
       " 'attorney',\n",
       " 'gerry',\n",
       " 'spence',\n",
       " 'although',\n",
       " 'spence',\n",
       " 'explicitly',\n",
       " 'stated',\n",
       " 'one',\n",
       " 'angle',\n",
       " 'stategy',\n",
       " 'must',\n",
       " 'involve',\n",
       " 'destroying',\n",
       " 'credibility',\n",
       " 'agent',\n",
       " 'cooper',\n",
       " 'cooper',\n",
       " 'government',\n",
       " \"'s\",\n",
       " 'eyewitness',\n",
       " 'death',\n",
       " 'agent',\n",
       " 'degan',\n",
       " 'spence',\n",
       " 'attacked',\n",
       " 'cooper',\n",
       " \"'s\",\n",
       " 'credibility',\n",
       " 'pointing',\n",
       " 'discrepancies',\n",
       " 'cooper',\n",
       " \"'s\",\n",
       " 'statements',\n",
       " 'last',\n",
       " 'september',\n",
       " 'made',\n",
       " 'court',\n",
       " 'cooper',\n",
       " 'conceded',\n",
       " '``',\n",
       " 'you',\n",
       " 'things',\n",
       " 'compressed',\n",
       " 'seconds',\n",
       " 'it',\n",
       " \"'s\",\n",
       " 'difficult',\n",
       " 'remember',\n",
       " 'went',\n",
       " 'first',\n",
       " 'cooper',\n",
       " 'acknowledged',\n",
       " 'carried',\n",
       " '``',\n",
       " '9mm',\n",
       " 'colt',\n",
       " 'commando',\n",
       " 'submachine',\n",
       " 'gun',\n",
       " 'silenced',\n",
       " 'barrel',\n",
       " 'i',\n",
       " 'thought',\n",
       " 'colt',\n",
       " 'commando',\n",
       " 'revolver',\n",
       " 'cooper',\n",
       " 'continued',\n",
       " 'stating',\n",
       " 'federal',\n",
       " 'agents',\n",
       " 'specific',\n",
       " 'plans',\n",
       " 'use',\n",
       " 'weapon',\n",
       " 'started',\n",
       " 'kill',\n",
       " 'weaver',\n",
       " \"'s\",\n",
       " 'dog',\n",
       " 'when',\n",
       " 'spence',\n",
       " 'asked',\n",
       " 'seven',\n",
       " 'cartridges',\n",
       " 'could',\n",
       " 'fired',\n",
       " \"degan's\",\n",
       " 'm-16',\n",
       " 'rifle',\n",
       " 'degan',\n",
       " 'apparently',\n",
       " 'dead',\n",
       " 'cooper',\n",
       " 'could',\n",
       " 'say',\n",
       " 'sure',\n",
       " 'degan',\n",
       " 'return',\n",
       " 'fire',\n",
       " 'going',\n",
       " 'spence',\n",
       " 'continued',\n",
       " 'asking',\n",
       " 'many',\n",
       " 'agents',\n",
       " 'extent',\n",
       " 'cooper',\n",
       " 'discussed',\n",
       " 'last',\n",
       " 'august',\n",
       " \"'s\",\n",
       " 'events',\n",
       " 'cooper',\n",
       " 'responded',\n",
       " '``',\n",
       " 'if',\n",
       " \"'re\",\n",
       " 'implying',\n",
       " 'got',\n",
       " 'story',\n",
       " 'together',\n",
       " \"'re\",\n",
       " 'wrong',\n",
       " 'counselor',\n",
       " 'spence',\n",
       " 'continued',\n",
       " 'advance',\n",
       " 'defense',\n",
       " \"'s\",\n",
       " 'version',\n",
       " 'events',\n",
       " 'namely',\n",
       " 'marshal',\n",
       " 'started',\n",
       " 'shooting',\n",
       " 'killing',\n",
       " 'weaver',\n",
       " \"'s\",\n",
       " 'dog',\n",
       " 'cooper',\n",
       " 'disagreed',\n",
       " 'assistant',\n",
       " 'u.s.',\n",
       " 'attorney',\n",
       " 'ronald',\n",
       " 'howen',\n",
       " 'repeatedly',\n",
       " 'objected',\n",
       " \"spence's\",\n",
       " 'virulent',\n",
       " 'cross-examination',\n",
       " 'agent',\n",
       " 'cooper',\n",
       " 'arguing',\n",
       " 'questions',\n",
       " 'repetitive',\n",
       " 'spence',\n",
       " 'wasting',\n",
       " 'time',\n",
       " 'howen',\n",
       " 'also',\n",
       " 'complained',\n",
       " 'spence',\n",
       " 'improperly',\n",
       " 'using',\n",
       " 'cross-examination',\n",
       " 'advance',\n",
       " 'defense',\n",
       " \"'s\",\n",
       " 'version',\n",
       " 'events',\n",
       " 'u.s.',\n",
       " 'district',\n",
       " 'judge',\n",
       " 'edward',\n",
       " 'lodge',\n",
       " 'sustained',\n",
       " 'many',\n",
       " 'objections',\n",
       " 'however',\n",
       " 'lawyers',\n",
       " 'persisted',\n",
       " 'judge',\n",
       " 'lodge',\n",
       " 'jury',\n",
       " 'leave',\n",
       " 'room',\n",
       " 'proceded',\n",
       " 'admonish',\n",
       " 'attorneys',\n",
       " '``',\n",
       " 'i',\n",
       " \"'m\",\n",
       " 'going',\n",
       " 'play',\n",
       " 'games',\n",
       " 'either',\n",
       " 'counsel',\n",
       " 'this',\n",
       " 'personality',\n",
       " 'problem',\n",
       " 'day',\n",
       " '1',\n",
       " 'start',\n",
       " 'acting',\n",
       " 'like',\n",
       " 'professionals',\n",
       " 'spence',\n",
       " 'told',\n",
       " 'judge',\n",
       " '``',\n",
       " 'when',\n",
       " 'evidence',\n",
       " \"'ll\",\n",
       " 'see',\n",
       " 'agent',\n",
       " 'larry',\n",
       " 'cooper',\n",
       " 'testimony',\n",
       " 'credible',\n",
       " 'panicked',\n",
       " 'remember',\n",
       " 'sequence',\n",
       " 'events',\n",
       " 'spence',\n",
       " 'continued',\n",
       " '``',\n",
       " 'we',\n",
       " \"'re\",\n",
       " 'going',\n",
       " 'find',\n",
       " 'unlikely',\n",
       " 'similarity',\n",
       " 'almost',\n",
       " 'come',\n",
       " 'cookie',\n",
       " 'cutter',\n",
       " 'testimony',\n",
       " 'mr.',\n",
       " 'cooper',\n",
       " 'witnesses',\n",
       " 'spence',\n",
       " 'moved',\n",
       " 'mistrial',\n",
       " 'grounds',\n",
       " 'howen',\n",
       " \"'s\",\n",
       " 'repeated',\n",
       " 'objections',\n",
       " 'would',\n",
       " 'prevent',\n",
       " 'fair',\n",
       " 'trial',\n",
       " '``',\n",
       " 'we',\n",
       " 'ca',\n",
       " \"n't\",\n",
       " 'fair',\n",
       " 'trial',\n",
       " 'jury',\n",
       " 'believes',\n",
       " 'i',\n",
       " \"'m\",\n",
       " 'sort',\n",
       " 'charlatan',\n",
       " 'jury',\n",
       " 'believes',\n",
       " \"i'm\",\n",
       " 'bending',\n",
       " 'rules',\n",
       " 'engaging',\n",
       " 'delaying',\n",
       " 'tactic',\n",
       " \"i'm\",\n",
       " 'violating',\n",
       " 'court',\n",
       " 'orders',\n",
       " 'judge',\n",
       " 'lodge',\n",
       " 'called',\n",
       " 'notion',\n",
       " 'repeated',\n",
       " 'sustainings',\n",
       " \"howen's\",\n",
       " 'objections',\n",
       " 'somehow',\n",
       " 'prejudiced',\n",
       " 'jury',\n",
       " '``',\n",
       " 'preposterous',\n",
       " 'denied',\n",
       " 'motion',\n",
       " 'mistrial',\n",
       " 'lodge',\n",
       " 'tell',\n",
       " 'howen',\n",
       " 'restrict',\n",
       " 'comments',\n",
       " 'objecting',\n",
       " 'the',\n",
       " 'trial',\n",
       " 'resumed',\n",
       " 'prosecution',\n",
       " 'calling',\n",
       " 'fbi',\n",
       " 'special',\n",
       " 'agent',\n",
       " 'greg',\n",
       " 'rampton',\n",
       " 'the',\n",
       " 'prosecution',\n",
       " \"'s\",\n",
       " 'purpose',\n",
       " 'simply',\n",
       " 'introduce',\n",
       " 'five',\n",
       " 'weapons',\n",
       " 'found',\n",
       " 'cabin',\n",
       " 'evidence',\n",
       " 'however',\n",
       " 'defense',\n",
       " 'seized',\n",
       " 'opportunity',\n",
       " 'address',\n",
       " 'cooper',\n",
       " \"'s\",\n",
       " 'credibility',\n",
       " 'defense',\n",
       " 'attorney',\n",
       " 'ellison',\n",
       " 'matthews',\n",
       " 'harris',\n",
       " 'attorney',\n",
       " 'questioned',\n",
       " 'rampton',\n",
       " 'dog',\n",
       " 'rampton',\n",
       " 'stated',\n",
       " 'specific',\n",
       " 'plans',\n",
       " 'kill',\n",
       " 'weaver',\n",
       " \"'s\",\n",
       " 'dog',\n",
       " 'without',\n",
       " 'detected',\n",
       " 'matthews',\n",
       " 'rampton',\n",
       " 'read',\n",
       " 'septtember',\n",
       " '15',\n",
       " '1992',\n",
       " 'transcript',\n",
       " 'rampton',\n",
       " 'said',\n",
       " 'cooper',\n",
       " 'said',\n",
       " 'purpose',\n",
       " 'silenced',\n",
       " 'weapon',\n",
       " 'kill',\n",
       " 'dog',\n",
       " 'without',\n",
       " 'detected',\n",
       " 'dog',\n",
       " 'chased',\n",
       " 'rampton',\n",
       " 'acknowledged',\n",
       " 'believed',\n",
       " 'cooper',\n",
       " 'said',\n",
       " 'could',\n",
       " 'remember',\n",
       " 'he',\n",
       " 'stated',\n",
       " '``',\n",
       " 'i',\n",
       " 'conduct',\n",
       " 'primary',\n",
       " 'interview',\n",
       " 'deputy',\n",
       " 'cooper',\n",
       " 'i',\n",
       " 'conversations',\n",
       " 'since',\n",
       " 'interview',\n",
       " 'conducted']"
      ]
     },
     "execution_count": 16,
     "metadata": {},
     "output_type": "execute_result"
    }
   ],
   "source": [
    "processed_data[0]"
   ]
  },
  {
   "cell_type": "markdown",
   "metadata": {},
   "source": [
    "Now, let's move onto exploring the dataset a bit more. Let's start by getting the total vocabulary size of the training dataset. We can do this by creating a `set` object and then using it's `.update()` method to iteratively add each article. Since it's a set, it will only contain unique words, with no duplicates. \n",
    "\n",
    "In the cell below:\n",
    "\n",
    "* Create a `set` object called `total_vocab`.\n",
    "* Iterate through each tokenized article in `processed_data` and add it to the set using the set's `.update()` method.\n",
    "* Once all articles have been added, get the total number of unique words in our training set by taking the length of the set."
   ]
  },
  {
   "cell_type": "code",
   "execution_count": 17,
   "metadata": {},
   "outputs": [
    {
     "data": {
      "text/plain": [
       "47124"
      ]
     },
     "execution_count": 17,
     "metadata": {},
     "output_type": "execute_result"
    }
   ],
   "source": [
    "total_vocab = set()\n",
    "for c in processed_data:\n",
    "    total_vocab.update(c)\n",
    "len(total_vocab)"
   ]
  },
  {
   "cell_type": "markdown",
   "metadata": {},
   "source": [
    "### Exploring Data With Frequency Distributions\n",
    "\n",
    "Great--our processed dataset contains 47,166 unique words! \n",
    "\n",
    "Next, let's create a Frequency Distribution to see which words are used the most! \n",
    "\n",
    "In order to do this, we'll need to concatenate every article into a single list, and then pass this list into a `FreqDist()` object. \n",
    "\n",
    "In the cell below:\n",
    "\n",
    "* Create an empty list called `articles_concat`\n",
    "* Iterate through `processed_data` and add every article it contains to `articles_concat`\n",
    "* Create a `FreqDist` object and pass in `articles_concat` as the input. \n",
    "* Display the top 200 most used words. "
   ]
  },
  {
   "cell_type": "code",
   "execution_count": 30,
   "metadata": {},
   "outputs": [
    {
     "data": {
      "text/plain": [
       "range(0, 446)"
      ]
     },
     "execution_count": 30,
     "metadata": {},
     "output_type": "execute_result"
    }
   ],
   "source": [
    "range(0,len(processed_data[0]))"
   ]
  },
  {
   "cell_type": "code",
   "execution_count": 31,
   "metadata": {},
   "outputs": [],
   "source": [
    "articles_concat = []\n",
    "for i in processed_data:\n",
    "    n = range(0,len(i))\n",
    "    for e in n:\n",
    "        articles_concat.append(i[e])"
   ]
  },
  {
   "cell_type": "code",
   "execution_count": 35,
   "metadata": {},
   "outputs": [
    {
     "data": {
      "text/plain": [
       "['note', 'these', 'trial', 'updates', 'summarized']"
      ]
     },
     "execution_count": 35,
     "metadata": {},
     "output_type": "execute_result"
    }
   ],
   "source": [
    "articles_concat[:5]"
   ]
  },
  {
   "cell_type": "code",
   "execution_count": 36,
   "metadata": {},
   "outputs": [
    {
     "data": {
      "text/plain": [
       "[('--', 29501),\n",
       " ('i', 7712),\n",
       " ('x', 4840),\n",
       " ('``', 4071),\n",
       " ('the', 3702),\n",
       " (\"'s\", 3203),\n",
       " (\"n't\", 2933),\n",
       " ('1', 2529),\n",
       " ('would', 1985),\n",
       " ('0', 1975),\n",
       " ('one', 1758),\n",
       " ('2', 1664),\n",
       " ('people', 1243),\n",
       " ('it', 1218),\n",
       " ('if', 1167),\n",
       " ('use', 1146),\n",
       " ('this', 1096),\n",
       " ('get', 1068),\n",
       " ('a', 1040),\n",
       " ('like', 1036),\n",
       " ('file', 1024),\n",
       " ('3', 1005),\n",
       " ('also', 875),\n",
       " ('key', 869),\n",
       " ('4', 864),\n",
       " ('could', 853),\n",
       " ('what', 824),\n",
       " ('know', 814),\n",
       " ('think', 814),\n",
       " ('time', 781),\n",
       " ('in', 757),\n",
       " ('may', 729),\n",
       " ('even', 711),\n",
       " ('new', 706),\n",
       " ('and', 689),\n",
       " ('first', 678),\n",
       " ('you', 675),\n",
       " ('*/', 674),\n",
       " ('system', 673),\n",
       " ('5', 673),\n",
       " ('well', 670),\n",
       " ('information', 646),\n",
       " ('make', 644),\n",
       " ('right', 638),\n",
       " ('see', 636),\n",
       " ('many', 634),\n",
       " ('two', 633),\n",
       " ('/*', 611),\n",
       " ('good', 608),\n",
       " ('used', 600),\n",
       " ('7', 593),\n",
       " ('government', 588),\n",
       " ('way', 572),\n",
       " ('available', 568),\n",
       " ('window', 568),\n",
       " (\"'m\", 562),\n",
       " ('db', 553),\n",
       " ('much', 540),\n",
       " ('encryption', 537),\n",
       " ('6', 537),\n",
       " ('but', 529),\n",
       " ('using', 527),\n",
       " ('say', 523),\n",
       " ('gun', 520),\n",
       " ('number', 518),\n",
       " ('program', 515),\n",
       " ('us', 510),\n",
       " ('team', 498),\n",
       " ('must', 483),\n",
       " ('law', 476),\n",
       " ('how', 465),\n",
       " ('there', 452),\n",
       " ('since', 449),\n",
       " ('we', 444),\n",
       " ('need', 444),\n",
       " ('they', 441),\n",
       " ('for', 441),\n",
       " ('game', 439),\n",
       " ('chip', 437),\n",
       " ('something', 435),\n",
       " ('8', 427),\n",
       " ('to', 424),\n",
       " ('want', 421),\n",
       " ('god', 419),\n",
       " ('server', 417),\n",
       " (\"'ve\", 416),\n",
       " ('public', 408),\n",
       " ('year', 401),\n",
       " ('set', 396),\n",
       " ('ca', 392),\n",
       " ('find', 391),\n",
       " ('please', 386),\n",
       " ('point', 385),\n",
       " ('without', 383),\n",
       " ('n', 383),\n",
       " ('might', 381),\n",
       " ('read', 378),\n",
       " ('said', 378),\n",
       " ('believe', 378),\n",
       " ('go', 377),\n",
       " ('take', 377),\n",
       " ('really', 376),\n",
       " ('of', 375),\n",
       " ('version', 374),\n",
       " ('c', 374),\n",
       " ('that', 372),\n",
       " ('anyone', 371),\n",
       " ('second', 370),\n",
       " ('list', 367),\n",
       " ('code', 367),\n",
       " ('another', 362),\n",
       " ('keys', 362),\n",
       " (\"'re\", 361),\n",
       " ('work', 360),\n",
       " ('example', 359),\n",
       " ('clipper', 358),\n",
       " ('play', 357),\n",
       " ('problem', 356),\n",
       " ('things', 353),\n",
       " ('data', 353),\n",
       " ('made', 348),\n",
       " ('widget', 345),\n",
       " ('sure', 344),\n",
       " ('however', 344),\n",
       " ('case', 343),\n",
       " ('still', 342),\n",
       " ('no', 341),\n",
       " ('back', 341),\n",
       " ('entry', 341),\n",
       " ('he', 340),\n",
       " ('hockey', 340),\n",
       " ('last', 339),\n",
       " ('10', 339),\n",
       " (\"'d\", 335),\n",
       " ('let', 333),\n",
       " ('better', 332),\n",
       " ('as', 331),\n",
       " ('25', 331),\n",
       " ('part', 330),\n",
       " ('security', 327),\n",
       " ('output', 327),\n",
       " ('so', 325),\n",
       " ('probably', 324),\n",
       " ('subject', 322),\n",
       " ('line', 321),\n",
       " ('privacy', 321),\n",
       " ('question', 320),\n",
       " ('going', 319),\n",
       " ('period', 315),\n",
       " ('state', 312),\n",
       " ('is', 311),\n",
       " ('course', 311),\n",
       " ('name', 311),\n",
       " ('anonymous', 307),\n",
       " ('9', 303),\n",
       " ('years', 302),\n",
       " ('look', 301),\n",
       " ('files', 300),\n",
       " ('got', 299),\n",
       " ('true', 299),\n",
       " ('control', 298),\n",
       " ('fact', 294),\n",
       " ('long', 293),\n",
       " ('application', 291),\n",
       " ('every', 290),\n",
       " ('season', 290),\n",
       " (\"'ll\", 289),\n",
       " ('someone', 285),\n",
       " ('source', 284),\n",
       " ('possible', 283),\n",
       " ('help', 282),\n",
       " ('message', 280),\n",
       " ('m', 279),\n",
       " ('55.0', 279),\n",
       " ('games', 276),\n",
       " ('thing', 276),\n",
       " ('never', 275),\n",
       " ('following', 274),\n",
       " ('why', 273),\n",
       " ('send', 273),\n",
       " ('try', 271),\n",
       " ('best', 270),\n",
       " ('motif', 270),\n",
       " ('general', 269),\n",
       " ('email', 269),\n",
       " ('run', 269),\n",
       " ('rather', 268),\n",
       " ('actually', 265),\n",
       " ('several', 264),\n",
       " ('thanks', 264),\n",
       " ('means', 264),\n",
       " ('either', 263),\n",
       " ('give', 263),\n",
       " ('note', 262),\n",
       " ('keep', 262),\n",
       " ('little', 262),\n",
       " ('put', 262),\n",
       " ('different', 261),\n",
       " ('guns', 259),\n",
       " ('enough', 259)]"
      ]
     },
     "execution_count": 36,
     "metadata": {},
     "output_type": "execute_result"
    }
   ],
   "source": [
    "articles_freqdist = FreqDist(articles_concat)\n",
    "articles_freqdist.most_common(200)"
   ]
  },
  {
   "cell_type": "markdown",
   "metadata": {},
   "source": [
    "At first glance, none of these words seem very informative--for most of the words represented here, it would be tough to guess if a given word is used equally among all 5 classes, or is disproportionately represented among a single class. This makes sense, because this frequency distribution  represents all the classes combined. This tells us that these words probably the least important, as they are most likely words that are used across mutliple classes, thereby providing our model with little actual signal as to what class they belong to. This tells us that we probably want to focus on words that appear heavily in articles from a given class, but rarely appear in articles from other classes. You may recall from previous sections that this is exactly where **_TF-IDF Vectorization_** really shines!\n",
    "\n",
    "### Vectorizing with TF-IDF\n",
    "\n",
    "Although NLTK does provide functionality for vectorizing text documents with TF-IDF, we'll make use of scikit-learn's TF-IDF vectorizer, because we already have experience with it, and because it's a bit easier to use, especially when the models we'll be feeding the vectorized data into are from scikit-learn, meaning that we don't have to worry about doing any extra processing to ensure they play nicely together. \n",
    "\n",
    "Recall that in order to use scikit-learn's `TfidfVectorizer`, we need to pass in the data as raw text documents--the `TfidfVectorizer` handles the Count Vectorization process on it's own, and then fits and transforms the data into TF-IDF format. \n",
    "\n",
    "This means that we need to:\n",
    "\n",
    "* Import `TfidfVectorizer` from `sklearn.feature_extraction.text` and instantiate a `TfidfVectorizer` object\n",
    "* Call the vectorizer object's `fit_transform()` method and pass in our `data` as input. Store the results in `tf_idf_data_train`.\n",
    "* Also create a vectorized version of our testing data, which can be found in `newsgroups_test.data`. Store the results in `tf_idf_data_test`. \n",
    "\n",
    "\n",
    "**_NOTE:_** When transforming the test data, use the `.transform()` method, not the `.fit_transform()` method, as the vectorizer has already been fit to the training data. "
   ]
  },
  {
   "cell_type": "code",
   "execution_count": 37,
   "metadata": {},
   "outputs": [],
   "source": [
    "from sklearn.feature_extraction.text import TfidfVectorizer"
   ]
  },
  {
   "cell_type": "code",
   "execution_count": 38,
   "metadata": {},
   "outputs": [],
   "source": [
    "vectorizer = TfidfVectorizer()"
   ]
  },
  {
   "cell_type": "code",
   "execution_count": 40,
   "metadata": {},
   "outputs": [],
   "source": [
    "tf_idf_data_train = vectorizer.fit_transform(data)"
   ]
  },
  {
   "cell_type": "code",
   "execution_count": 41,
   "metadata": {},
   "outputs": [],
   "source": [
    "tf_idf_data_test = vectorizer.transform(newsgroups_test.data)"
   ]
  },
  {
   "cell_type": "markdown",
   "metadata": {},
   "source": [
    "### Modeling Our Data\n",
    "\n",
    "Great! We've now preprocessed and explored our dataset, let's take a second to see what our data looks like in vectorized form. \n",
    "\n",
    "In the cell below, get the shape of `tf_idf_data`."
   ]
  },
  {
   "cell_type": "code",
   "execution_count": 44,
   "metadata": {},
   "outputs": [
    {
     "data": {
      "text/plain": [
       "(2814, 36622)"
      ]
     },
     "execution_count": 44,
     "metadata": {},
     "output_type": "execute_result"
    }
   ],
   "source": [
    "tf_idf_data_train.shape"
   ]
  },
  {
   "cell_type": "code",
   "execution_count": 46,
   "metadata": {},
   "outputs": [
    {
     "data": {
      "text/plain": [
       "(1873, 36622)"
      ]
     },
     "execution_count": 46,
     "metadata": {},
     "output_type": "execute_result"
    }
   ],
   "source": [
    "tf_idf_data_test.shape"
   ]
  },
  {
   "cell_type": "markdown",
   "metadata": {},
   "source": [
    "Our vectorized data contains 2,814 articles, with 36,622 unique words in the vocabulary. However, the vast majority of these columns for any given article will be zero, since every article only contains a small subset of the total vocabulary. Recall that vectors mostly filled with zeros are referred to as **_Sparse Vectors_**. These are extremely common when working with text data. \n",
    "\n",
    "Let's check out the average number of non-zero columns in the vectors. Run the cell below to calculate this average. "
   ]
  },
  {
   "cell_type": "code",
   "execution_count": 48,
   "metadata": {},
   "outputs": [
    {
     "name": "stdout",
     "output_type": "stream",
     "text": [
      "Average Number of Non-Zero Elements in Vectorized Articles: 107.28038379530916\n",
      "Percentage of columns containing 0: 0.9970706028126451\n"
     ]
    }
   ],
   "source": [
    "non_zero_cols = tf_idf_data_train.nnz / float(tf_idf_data_train.shape[0])\n",
    "print(\"Average Number of Non-Zero Elements in Vectorized Articles: {}\".format(non_zero_cols))\n",
    "\n",
    "percent_sparse = 1 - (non_zero_cols / float(tf_idf_data_train.shape[1]))\n",
    "print('Percentage of columns containing 0: {}'.format(percent_sparse))"
   ]
  },
  {
   "cell_type": "markdown",
   "metadata": {},
   "source": [
    "As we can see from the output above, the average vectorized article contains 107 non-zero columns. This means that 99.7% of each vector is actually zeros! This is one reason why it's best not to create your own vectorizers, and rely on professional packages such as scikit-learn and NLTK instead--they contain many speed and memory optimizations specifically for dealing with sparse vectors. This way, we aren't wasting a giant chunk of memory on a vectorized dataset that only has valid information in 0.3% of it. \n",
    "\n",
    "Now that we've vectorized our dataset, let's create some models and fit them to our vectorized training data. \n",
    "\n",
    "In the cell below:\n",
    "\n",
    "* Create a `MultinomialNB` and `RandomForestClassifier`. For the Random Forest, set `n_estimators` to `100`. Don't worry about tweaking any of the other parameters. \n",
    "* Fit each to our vectorized training data.\n",
    "* Create predictions for our training and testing sets\n",
    "* Calculate the `accuracy_score` for both the training and testing sets (you'll find our training labels stored within the variable `target`, and the testing labels stored within `newsgroups_test.target`)"
   ]
  },
  {
   "cell_type": "markdown",
   "metadata": {},
   "source": [
    "**Multinomial Naive Bayes Classifier** "
   ]
  },
  {
   "cell_type": "code",
   "execution_count": 49,
   "metadata": {},
   "outputs": [],
   "source": [
    "nb_classifier = MultinomialNB() # Creates a Multinomial Naive Bayes classifier\n",
    "rf_classifier = RandomForestClassifier(n_estimators=100) # Creates a Random Forest classifier, with n estimators"
   ]
  },
  {
   "cell_type": "code",
   "execution_count": 50,
   "metadata": {},
   "outputs": [],
   "source": [
    "nb_classifier.fit(tf_idf_data_train, target) # Fit vectorized training data to the Naive Bayes classifier\n",
    "\n",
    "nb_train_preds = nb_classifier.predict(tf_idf_data_train) # Create predictions for training set\n",
    "nb_test_preds = nb_classifier.predict(tf_idf_data_test) # Create predictions for testing set"
   ]
  },
  {
   "cell_type": "markdown",
   "metadata": {},
   "source": [
    "**Random Forest Classifier**"
   ]
  },
  {
   "cell_type": "code",
   "execution_count": 52,
   "metadata": {},
   "outputs": [],
   "source": [
    "rf_classifier.fit(tf_idf_data_train, target) # Fit vectorized training data to Random Forest classifier\n",
    "\n",
    "rf_train_preds = rf_classifier.predict(tf_idf_data_train) # Create predictions for training set\n",
    "rf_test_preds = rf_classifier.predict(tf_idf_data_test) # Create predictions for testing set"
   ]
  },
  {
   "cell_type": "code",
   "execution_count": 53,
   "metadata": {},
   "outputs": [
    {
     "name": "stdout",
     "output_type": "stream",
     "text": [
      "Multinomial Naive Bayes\n",
      "Training Accuracy: 0.9531 \t\t Testing Accuracy: 0.8126\n",
      "\n",
      "----------------------------------------------------------------------\n",
      "\n",
      "Random Forest\n",
      "Training Accuracy: 0.9851 \t\t Testing Accuracy: 0.7896\n"
     ]
    }
   ],
   "source": [
    "nb_train_score = accuracy_score(target, nb_train_preds)\n",
    "nb_test_score = accuracy_score(newsgroups_test.target, nb_test_preds)\n",
    "rf_train_score = accuracy_score(target, rf_train_preds)\n",
    "rf_test_score = accuracy_score(newsgroups_test.target, rf_test_preds)\n",
    "\n",
    "print(\"Multinomial Naive Bayes\")\n",
    "print(\"Training Accuracy: {:.4} \\t\\t Testing Accuracy: {:.4}\".format(nb_train_score, nb_test_score))\n",
    "print(\"\")\n",
    "print('-'*70)\n",
    "print(\"\")\n",
    "print('Random Forest')\n",
    "print(\"Training Accuracy: {:.4} \\t\\t Testing Accuracy: {:.4}\".format(rf_train_score, rf_test_score))"
   ]
  },
  {
   "cell_type": "markdown",
   "metadata": {},
   "source": [
    "### Interpreting Results\n",
    "\n",
    "**_Question:_** Interpret the results seen above. How well did the models do? How do they compare to random guessing? How would you describe the quality of the model fit?\n",
    "\n",
    "Write your answer below this line:\n",
    "_______________________________________________________________________________________________________________________________\n",
    "\n",
    "* By randomly guessing, the naive accuracy rate for 5 classes would be 20%\n",
    "* 81% and 78% are really good in comparison\n",
    "* There might have been overfitting, because the training predictions were way more accurate\n",
    "\n",
    "\n",
    "# Summary\n",
    "\n",
    "In this lab, we used our NLP skills to clean, preprocess, explore, and fit models to text data for classification. This wasn't easy--great job!!"
   ]
  },
  {
   "cell_type": "code",
   "execution_count": null,
   "metadata": {},
   "outputs": [],
   "source": []
  }
 ],
 "metadata": {
  "kernelspec": {
   "display_name": "learn-env",
   "language": "python",
   "name": "learn-env"
  },
  "language_info": {
   "codemirror_mode": {
    "name": "ipython",
    "version": 3
   },
   "file_extension": ".py",
   "mimetype": "text/x-python",
   "name": "python",
   "nbconvert_exporter": "python",
   "pygments_lexer": "ipython3",
   "version": "3.7.1"
  }
 },
 "nbformat": 4,
 "nbformat_minor": 2
}
